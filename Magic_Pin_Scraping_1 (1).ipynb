{
  "nbformat": 4,
  "nbformat_minor": 0,
  "metadata": {
    "colab": {
      "provenance": []
    },
    "kernelspec": {
      "name": "python3",
      "display_name": "Python 3"
    },
    "language_info": {
      "name": "python"
    }
  },
  "cells": [
    {
      "cell_type": "markdown",
      "source": [
        "# Web Scraping of prices and menu items from Magicpin.com"
      ],
      "metadata": {
        "id": "BAQHCOLZmfWV"
      }
    },
    {
      "cell_type": "code",
      "source": [
        "from bs4 import BeautifulSoup\n",
        "import requests\n",
        "import pandas as pd\n",
        "import urllib.parse"
      ],
      "metadata": {
        "id": "TJy4atCDDim9"
      },
      "execution_count": null,
      "outputs": []
    },
    {
      "cell_type": "code",
      "source": [
        "url = \"https://magicpin.in/New-Delhi/Paharganj/Restaurant/Eatfit/store/61a193/delivery/\"\n",
        "response = requests.get(url)"
      ],
      "metadata": {
        "id": "bbPbUmfnD--1"
      },
      "execution_count": null,
      "outputs": []
    },
    {
      "cell_type": "code",
      "source": [
        "soup = BeautifulSoup(response.content, 'html.parser')"
      ],
      "metadata": {
        "id": "STobP04KELhs"
      },
      "execution_count": null,
      "outputs": []
    },
    {
      "cell_type": "code",
      "source": [
        "element = soup.find('a', {'class':'itemName'})\n",
        "if element is not None:\n",
        "   Name_of_the_Item = element.get_text()\n",
        "else:\n",
        "   Name_of_the_Item = None\n",
        "print(Name_of_the_Item)\n",
        "\n",
        "element = soup.find('span', {'class':'itemPrice'})\n",
        "if element is not None:\n",
        "   Name_of_the_Item = element.get_text()\n",
        "else:\n",
        "   Name_of_the_Item = None\n",
        "print(Name_of_the_Item)"
      ],
      "metadata": {
        "colab": {
          "base_uri": "https://localhost:8080/"
        },
        "id": "Yqbia0fSF-7k",
        "outputId": "bb84fcad-c90e-4b85-b8af-69357db8bfad"
      },
      "execution_count": null,
      "outputs": [
        {
          "output_type": "stream",
          "name": "stdout",
          "text": [
            "Veg Keema Kulcha Burger\n",
            " ₹239 \n"
          ]
        }
      ]
    },
    {
      "cell_type": "code",
      "source": [
        "Name_of_the_item = []\n",
        "Price_of_the_item = []\n",
        "for div in soup.find('p'):\n",
        "    try:\n",
        "        Name_of_the_item.append(soup.find('a', {'class':'itemName'}).get_text())\n",
        "    except:\n",
        "        Name_of_the_item.append('n/a')\n",
        "    try:\n",
        "        Price_of_the_item.append(soup.find('span', {'class':'itemPrice'}).get_text())\n",
        "    except:\n",
        "        Price_of_the_item.append('n/a')\n",
        "print(Name_of_the_item)\n",
        "print(Price_of_the_item)"
      ],
      "metadata": {
        "colab": {
          "base_uri": "https://localhost:8080/"
        },
        "id": "008EmZbSKR22",
        "outputId": "777e7a48-d04a-44db-e404-34f5e44cf709"
      },
      "execution_count": null,
      "outputs": [
        {
          "output_type": "stream",
          "name": "stdout",
          "text": [
            "['Veg Keema Kulcha Burger']\n",
            "[' ₹239 ']\n"
          ]
        }
      ]
    },
    {
      "cell_type": "code",
      "source": [
        "df = pd.DataFrame(Name_of_the_item, Price_of_the_item)\n",
        "\n",
        "print(df)"
      ],
      "metadata": {
        "colab": {
          "base_uri": "https://localhost:8080/"
        },
        "id": "LwraViuILuTP",
        "outputId": "68183cd5-61f3-4b01-b12e-835b71b27cda"
      },
      "execution_count": null,
      "outputs": [
        {
          "output_type": "stream",
          "name": "stdout",
          "text": [
            "                              0\n",
            " ₹239   Veg Keema Kulcha Burger\n",
            " ₹239   Veg Keema Kulcha Burger\n",
            " ₹239   Veg Keema Kulcha Burger\n",
            " ₹239   Veg Keema Kulcha Burger\n",
            " ₹239   Veg Keema Kulcha Burger\n",
            "...                         ...\n",
            " ₹239   Veg Keema Kulcha Burger\n",
            " ₹239   Veg Keema Kulcha Burger\n",
            " ₹239   Veg Keema Kulcha Burger\n",
            " ₹239   Veg Keema Kulcha Burger\n",
            " ₹239   Veg Keema Kulcha Burger\n",
            "\n",
            "[277 rows x 1 columns]\n"
          ]
        }
      ]
    },
    {
      "cell_type": "code",
      "source": [
        "df.to_excel(\"Magic_PIN_Names_prices.xlsx\")"
      ],
      "metadata": {
        "id": "pTHSsW9KMSlN"
      },
      "execution_count": null,
      "outputs": []
    }
  ]
}